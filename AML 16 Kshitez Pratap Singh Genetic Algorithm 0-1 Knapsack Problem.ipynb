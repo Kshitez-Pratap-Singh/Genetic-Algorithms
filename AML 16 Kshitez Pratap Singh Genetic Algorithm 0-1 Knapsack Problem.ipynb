{
 "cells": [
  {
   "cell_type": "markdown",
   "id": "63759606",
   "metadata": {},
   "source": [
    "# Advanced Machine Learning 16"
   ]
  },
  {
   "cell_type": "markdown",
   "id": "9a57fba9",
   "metadata": {},
   "source": [
    "## Apply Genetic Algorithm, the 0-1 Knapsack Problem"
   ]
  },
  {
   "cell_type": "markdown",
   "id": "0130d9fa",
   "metadata": {},
   "source": [
    "### Generate Random Population"
   ]
  },
  {
   "cell_type": "code",
   "execution_count": 1,
   "id": "15233ce3",
   "metadata": {},
   "outputs": [],
   "source": [
    "import random\n",
    "\n",
    "# function to generate a random population\n",
    "def generate_population(size):\n",
    "    population = []\n",
    "    for _ in range(size):\n",
    "        genes = [0, 1]\n",
    "        chromosome = []\n",
    "        \n",
    "        for _ in range(len(items)):\n",
    "            chromosome.append(random.choice(genes))\n",
    "        population.append(chromosome)\n",
    "    print(\"Generated a random population of size\", size)\n",
    "    return population"
   ]
  },
  {
   "cell_type": "markdown",
   "id": "4b2bf517",
   "metadata": {},
   "source": [
    "### Calculate Chromosome Fitness"
   ]
  },
  {
   "cell_type": "code",
   "execution_count": 2,
   "id": "769e242f",
   "metadata": {},
   "outputs": [],
   "source": [
    "# function to calculate the fitness of a chromosome\n",
    "\n",
    "def calculate_fitness(chromosome):\n",
    "    total_weight = 0\n",
    "    total_value = 0\n",
    "    for i in range(len(chromosome)):\n",
    "        if chromosome[i] == 1:\n",
    "            total_weight += items[i][0]\n",
    "            total_value += items[i][1]\n",
    "    \n",
    "    if total_weight > max_weight:\n",
    "        return 0\n",
    "    else:\n",
    "        return total_value"
   ]
  },
  {
   "cell_type": "markdown",
   "id": "7f3645ec",
   "metadata": {},
   "source": [
    "### Select Chromosomes"
   ]
  },
  {
   "cell_type": "code",
   "execution_count": 3,
   "id": "26e7b208",
   "metadata": {},
   "outputs": [],
   "source": [
    "# function to select two chromosomes for crossover\n",
    "\n",
    "def select_chromosomes(population):\n",
    "    fitness_values = []\n",
    "    for chromosome in population:\n",
    "        fitness_values.append(calculate_fitness(chromosome))\n",
    "    fitness_values = [float(i)/sum(fitness_values) for i in fitness_values]\n",
    "    parent1 = random.choices(population, weights=fitness_values, k=1)[0]\n",
    "    parent2 = random.choices(population, weights=fitness_values, k=1)[0]\n",
    "    print(\"Selected two chromosomes for crossover\")\n",
    "    return parent1, parent2"
   ]
  },
  {
   "cell_type": "markdown",
   "id": "5e04bc82",
   "metadata": {},
   "source": [
    "### Perform Crossover"
   ]
  },
  {
   "cell_type": "code",
   "execution_count": 4,
   "id": "d5ca2dc6",
   "metadata": {},
   "outputs": [],
   "source": [
    "# function to perform crossover between two chromosomes\n",
    "\n",
    "def crossover(parent1, parent2):\n",
    "    crossover_point = random.randint(0, len(items)-1)\n",
    "    child1 = parent1[0:crossover_point] + parent2[crossover_point:]\n",
    "    child2 = parent2[0:crossover_point] + parent1[crossover_point:]\n",
    "    print(\"Performed crossover between two chromosomes\")\n",
    "    return child1, child2"
   ]
  },
  {
   "cell_type": "markdown",
   "id": "86b80174",
   "metadata": {},
   "source": [
    "### Perform Mutation"
   ]
  },
  {
   "cell_type": "code",
   "execution_count": 5,
   "id": "beae3d48",
   "metadata": {},
   "outputs": [],
   "source": [
    "# function to perform mutation on a chromosome\n",
    "\n",
    "def mutate(chromosome):\n",
    "    mutation_point = random.randint(0, len(items)-1)\n",
    "    if chromosome[mutation_point] == 0:\n",
    "        chromosome[mutation_point] = 1\n",
    "    else:\n",
    "        chromosome[mutation_point] = 0\n",
    "    \n",
    "    print(\"Performed mutation on a chromosome\")\n",
    "    return chromosome"
   ]
  },
  {
   "cell_type": "markdown",
   "id": "a0fbae37",
   "metadata": {},
   "source": [
    "### Get Best Chromosome"
   ]
  },
  {
   "cell_type": "code",
   "execution_count": 6,
   "id": "f1c69097",
   "metadata": {},
   "outputs": [],
   "source": [
    "# function to get the best chromosome from the population\n",
    "\n",
    "def get_best(population):\n",
    "    fitness_values = []\n",
    "    for chromosome in population:\n",
    "        fitness_values.append(calculate_fitness(chromosome))\n",
    "    \n",
    "    max_value = max(fitness_values)\n",
    "    max_index = fitness_values.index(max_value)\n",
    "    return population[max_index]"
   ]
  },
  {
   "cell_type": "code",
   "execution_count": 7,
   "id": "85f0d8c5",
   "metadata": {},
   "outputs": [],
   "source": [
    "# items that can be put in the knapsack\n",
    "\n",
    "items = [\n",
    "    [1, 2],\n",
    "    [2, 4],\n",
    "    [3, 4],\n",
    "    [4, 5],\n",
    "    [5, 7],\n",
    "    [6, 9]]"
   ]
  },
  {
   "cell_type": "code",
   "execution_count": 8,
   "id": "df4ae4e4",
   "metadata": {},
   "outputs": [
    {
     "name": "stdout",
     "output_type": "stream",
     "text": [
      "Available items:\n",
      " [[1, 2], [2, 4], [3, 4], [4, 5], [5, 7], [6, 9]]\n"
     ]
    }
   ],
   "source": [
    "# print available items\n",
    "\n",
    "print(\"Available items:\\n\", items)"
   ]
  },
  {
   "cell_type": "code",
   "execution_count": 9,
   "id": "f6d08306",
   "metadata": {},
   "outputs": [
    {
     "name": "stdout",
     "output_type": "stream",
     "text": [
      "\n",
      "Genetic algorithm parameters:\n",
      "Max weight: 10\n",
      "Population: 10\n",
      "Mutation probability: 0.2\n",
      "Generations: 10 \n",
      "\n",
      "Performing genetic evolution:\n"
     ]
    }
   ],
   "source": [
    "# parameters for genetic algorithm\n",
    "\n",
    "max_weight = 10\n",
    "population_size = 10\n",
    "mutation_probability = 0.2\n",
    "generations = 10\n",
    "print(\"\\nGenetic algorithm parameters:\")\n",
    "print(\"Max weight:\", max_weight)\n",
    "print(\"Population:\", population_size)\n",
    "print(\"Mutation probability:\", mutation_probability)\n",
    "print(\"Generations:\", generations, \"\\n\")\n",
    "print(\"Performing genetic evolution:\")"
   ]
  },
  {
   "cell_type": "code",
   "execution_count": 10,
   "id": "5858afa3",
   "metadata": {},
   "outputs": [
    {
     "name": "stdout",
     "output_type": "stream",
     "text": [
      "Generated a random population of size 10\n",
      "Selected two chromosomes for crossover\n",
      "Performed crossover between two chromosomes\n",
      "Performed mutation on a chromosome\n",
      "Selected two chromosomes for crossover\n",
      "Performed crossover between two chromosomes\n",
      "Selected two chromosomes for crossover\n",
      "Performed crossover between two chromosomes\n",
      "Performed mutation on a chromosome\n",
      "Selected two chromosomes for crossover\n",
      "Performed crossover between two chromosomes\n",
      "Selected two chromosomes for crossover\n",
      "Performed crossover between two chromosomes\n",
      "Performed mutation on a chromosome\n",
      "Selected two chromosomes for crossover\n",
      "Performed crossover between two chromosomes\n",
      "Performed mutation on a chromosome\n",
      "Performed mutation on a chromosome\n",
      "Selected two chromosomes for crossover\n",
      "Performed crossover between two chromosomes\n",
      "Selected two chromosomes for crossover\n",
      "Performed crossover between two chromosomes\n",
      "Selected two chromosomes for crossover\n",
      "Performed crossover between two chromosomes\n",
      "Performed mutation on a chromosome\n",
      "Selected two chromosomes for crossover\n",
      "Performed crossover between two chromosomes\n",
      "Performed mutation on a chromosome\n"
     ]
    }
   ],
   "source": [
    "# generate a random population\n",
    "\n",
    "population = generate_population(population_size)\n",
    "\n",
    "# evolve the population for specified number of generations\n",
    "for _ in range(generations):\n",
    "    \n",
    "    # select two chromosomes for crossover\n",
    "    parent1, parent2 = select_chromosomes(population)\n",
    "    \n",
    "    # perform crossover to generate two new chromosomes\n",
    "    child1, child2 = crossover(parent1, parent2)\n",
    "\n",
    "    # perform mutation on the two new chromosomes\n",
    "    if random.uniform(0, 1) < mutation_probability:\n",
    "        child1 = mutate(child1)\n",
    "    if random.uniform(0, 1) < mutation_probability:\n",
    "        child2 = mutate(child2)\n",
    "\n",
    "    # replace the old population with the new population\n",
    "    population = [child1, child2] + population[2:]"
   ]
  },
  {
   "cell_type": "code",
   "execution_count": 11,
   "id": "a2482145",
   "metadata": {},
   "outputs": [],
   "source": [
    "# get the best chromosome from the population\n",
    "\n",
    "best = get_best(population)\n",
    "# get the weight and value of the best solution\n",
    "total_weight = 0\n",
    "total_value = 0\n",
    "for i in range(len(best)):\n",
    "    if best[i] == 1:\n",
    "        total_weight += items[i][0]\n",
    "        total_value += items[i][1]"
   ]
  },
  {
   "cell_type": "code",
   "execution_count": 12,
   "id": "354ce82e",
   "metadata": {},
   "outputs": [
    {
     "name": "stdout",
     "output_type": "stream",
     "text": [
      "\n",
      "The best solution:\n",
      "Weight: 10\n",
      "Value: 15\n",
      "The best population :  [0, 1, 1, 0, 1, 0]\n"
     ]
    }
   ],
   "source": [
    "# print the best solution\n",
    "\n",
    "print(\"\\nThe best solution:\")\n",
    "print(\"Weight:\", total_weight)\n",
    "print(\"Value:\", total_value)\n",
    "print(\"The best population : \", best)"
   ]
  }
 ],
 "metadata": {
  "kernelspec": {
   "display_name": "Python 3 (ipykernel)",
   "language": "python",
   "name": "python3"
  },
  "language_info": {
   "codemirror_mode": {
    "name": "ipython",
    "version": 3
   },
   "file_extension": ".py",
   "mimetype": "text/x-python",
   "name": "python",
   "nbconvert_exporter": "python",
   "pygments_lexer": "ipython3",
   "version": "3.9.16"
  }
 },
 "nbformat": 4,
 "nbformat_minor": 5
}
